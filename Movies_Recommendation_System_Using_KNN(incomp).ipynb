{
  "nbformat": 4,
  "nbformat_minor": 0,
  "metadata": {
    "colab": {
      "provenance": []
    },
    "kernelspec": {
      "name": "python3",
      "display_name": "Python 3"
    },
    "language_info": {
      "name": "python"
    }
  },
  "cells": [
    {
      "cell_type": "markdown",
      "source": [
        "Importing Necessary Libraries"
      ],
      "metadata": {
        "id": "EbJJ1mol7UMk"
      }
    },
    {
      "cell_type": "code",
      "execution_count": 38,
      "metadata": {
        "id": "n_7VEDLF1Pg0"
      },
      "outputs": [],
      "source": [
        "import numpy as np\n",
        "import pandas as pd\n",
        "import sklearn\n",
        "import matplotlib.pyplot as plt\n",
        "import seaborn as sns\n",
        "import warnings\n",
        "warnings.simplefilter(action = 'ignore',category=FutureWarning)"
      ]
    },
    {
      "cell_type": "code",
      "source": [
        "# load the dataset\n",
        "ratings = pd.read_csv(\"/content/ratings.csv\")\n",
        "print(ratings.head())\n",
        "movies = pd.read_csv(\"/content/movies.csv\")\n",
        "print(movies.head())"
      ],
      "metadata": {
        "colab": {
          "base_uri": "https://localhost:8080/"
        },
        "id": "DznKDAzx7qr1",
        "outputId": "b1a2c1fc-139b-4079-8632-9117469daedd"
      },
      "execution_count": 39,
      "outputs": [
        {
          "output_type": "stream",
          "name": "stdout",
          "text": [
            "   userId  movieId  rating  timestamp\n",
            "0       1        1     4.0  964982703\n",
            "1       1        3     4.0  964981247\n",
            "2       1        6     4.0  964982224\n",
            "3       1       47     5.0  964983815\n",
            "4       1       50     5.0  964982931\n",
            "   movieId                               title  \\\n",
            "0        1                    Toy Story (1995)   \n",
            "1        2                      Jumanji (1995)   \n",
            "2        3             Grumpier Old Men (1995)   \n",
            "3        4            Waiting to Exhale (1995)   \n",
            "4        5  Father of the Bride Part II (1995)   \n",
            "\n",
            "                                        genres  \n",
            "0  Adventure|Animation|Children|Comedy|Fantasy  \n",
            "1                   Adventure|Children|Fantasy  \n",
            "2                               Comedy|Romance  \n",
            "3                         Comedy|Drama|Romance  \n",
            "4                                       Comedy  \n"
          ]
        }
      ]
    },
    {
      "cell_type": "code",
      "source": [
        "print(ratings.columns)\n",
        "print(movies.columns)"
      ],
      "metadata": {
        "colab": {
          "base_uri": "https://localhost:8080/"
        },
        "id": "oXbEKUHvDelD",
        "outputId": "2e8737b4-f6fb-47ca-b394-00b33bbcd2c8"
      },
      "execution_count": 40,
      "outputs": [
        {
          "output_type": "stream",
          "name": "stdout",
          "text": [
            "Index(['userId', 'movieId', 'rating', 'timestamp'], dtype='object')\n",
            "Index(['movieId', 'title', 'genres'], dtype='object')\n"
          ]
        }
      ]
    },
    {
      "cell_type": "code",
      "source": [
        "n_ratings = len(ratings)\n",
        "n_movies = len(ratings['movieId'].unique())\n",
        "n_users = len(ratings['movieId'].unique())\n",
        "\n",
        "print(f\"Number of ratings: {n_ratings}\")\n",
        "print(f\"Number of unique moviesID's: {n_movies}\")\n",
        "print(f\"Number of unique users: {n_users}\")\n",
        "print(f\"Average ratiings per user: {round(n_ratings/n_users, 2)}\")\n",
        "print(f\"Average ratiings per movies: {round(n_ratings/n_movies, 2)}\")"
      ],
      "metadata": {
        "colab": {
          "base_uri": "https://localhost:8080/"
        },
        "id": "8mFVt0ia9loN",
        "outputId": "7198c8f7-e1d6-4c34-db25-e7307ae7ba9f"
      },
      "execution_count": 41,
      "outputs": [
        {
          "output_type": "stream",
          "name": "stdout",
          "text": [
            "Number of ratings: 100836\n",
            "Number of unique moviesID's: 9724\n",
            "Number of unique users: 9724\n",
            "Average ratiings per user: 10.37\n",
            "Average ratiings per movies: 10.37\n"
          ]
        }
      ]
    },
    {
      "cell_type": "code",
      "source": [
        "user_freq = ratings[['userId','movieId']].groupby('userId').count().reset_index()\n",
        "user_freq.columns = ['userId','n_ratings']\n",
        "print(user_freq.head())"
      ],
      "metadata": {
        "colab": {
          "base_uri": "https://localhost:8080/"
        },
        "id": "rxWtTBVx9wGn",
        "outputId": "379b126e-b2f1-4d16-d081-3b4fb2c2feff"
      },
      "execution_count": 42,
      "outputs": [
        {
          "output_type": "stream",
          "name": "stdout",
          "text": [
            "   userId  n_ratings\n",
            "0       1        232\n",
            "1       2         29\n",
            "2       3         39\n",
            "3       4        216\n",
            "4       5         44\n"
          ]
        }
      ]
    },
    {
      "cell_type": "code",
      "source": [
        "mean_rating = ratings.groupby('movieId')[['rating']].mean()  #finds highest and lowest rated\n",
        "\n",
        "lowest_rated = mean_rating['rating'].idxmin()     #lowest rated movies\n",
        "movies.loc[movies['movieId'] == lowest_rated]\n",
        "\n",
        "highest_rated = mean_rating['rating'].idxmin()    #highest rated movies\n",
        "movies.loc[movies['movieId'] == highest_rated]\n",
        "\n",
        "ratings[ratings['movieId'] == highest_rated]       #people who watched these highest rated movies\n",
        "\n",
        "ratings[ratings['movieId'] == lowest_rated]       #people who watched lowest rated movies\n",
        "\n",
        "movie_stats = ratings.groupby('movieId')[['rating']].agg(['count','mean'])   #adding baysian average\n",
        "movie_stats.column = movie_stats.columns.droplevel()"
      ],
      "metadata": {
        "colab": {
          "base_uri": "https://localhost:8080/"
        },
        "id": "4QR13CeFEbgX",
        "outputId": "4687b2ca-87e3-40a0-83f1-7c50350735af"
      },
      "execution_count": 43,
      "outputs": [
        {
          "output_type": "stream",
          "name": "stderr",
          "text": [
            "<ipython-input-43-2afb98f8221d>:14: UserWarning: Pandas doesn't allow columns to be created via a new attribute name - see https://pandas.pydata.org/pandas-docs/stable/indexing.html#attribute-access\n",
            "  movie_stats.column = movie_stats.columns.droplevel()\n"
          ]
        }
      ]
    },
    {
      "cell_type": "code",
      "source": [
        "from scipy.sparse import csr_matrix\n",
        "def create_matrix(df):\n",
        "  N = len(df['userId'].unique())\n",
        "  M = len(df['movieId'].unique())\n",
        "\n",
        "  user_mapper = dict(zip(np.unique(df['userId']), list(range(N))))     #mapping id to index\n",
        "  movie_mapper = dict(zip(np.unique(df['movieId']), list(range(M))))\n",
        "\n",
        "  user_inv_mapper = dict(zip(list(range(N)), np.unique(df['userId'])))    #mapping index to id\n",
        "  movie_inv_mapper = dict(zip(list(range(N)), np.unique(df['movieId'])))\n",
        "\n",
        "  user_index = [user_mapper[i] for i in df['userId']]\n",
        "  movie_index = [movie_mapper[i] for i in df['movieId']]\n",
        "\n",
        "  X = csr_matrix((df['rating'], (movie_index, user_index)), shape=(M,N))\n",
        "\n",
        "  return X, user_mapper, movie_mapper, user_inv_mapper, movie_inv_mapper\n",
        "\n",
        "X, user_mapper, movie_mapper, user_inv_mapper, movie_inv_mapper = create_matrix(ratings)"
      ],
      "metadata": {
        "id": "TdpKa3_zI7tw"
      },
      "execution_count": 44,
      "outputs": []
    },
    {
      "cell_type": "code",
      "source": [
        "# from sklearn.neighbors import NearestNeighbors\n",
        "# def find_similar_movies(movie_id, X, k, metric='cosine',show_distance=False):\n",
        "\n",
        "#   neighbour_id = []\n",
        "\n",
        "#   movie_ind = movie_mapper[movie_id]\n",
        "#   movie_vec = X[movie_ind]\n",
        "#   k += 1\n",
        "#   kNN = NearestNeighbors(n_neighbors = k, algorithm='brute', metric = metric)\n",
        "#   kNN.fit(X)\n",
        "#   movie_vec = movie_vec.reshape(1,-1)\n",
        "#   neighbour = kNN.kneighbors(movie_vec, return_distance = show_distance)\n",
        "#   for i in range(0,k):\n",
        "#     n = neighbour.item(i)\n",
        "#     neighbour_id.append(movie_inv_mapper[n])\n",
        "#   neighbour_id.pop(0)\n",
        "#   return neighbour_id\n",
        "\n",
        "# movie_titles = dict(zip(movies['movieId'], movies['title']))\n",
        "\n",
        "# movie_id = 3\n",
        "\n",
        "# similar_ids = find_similar_movies(movie_id, X, k=10)\n",
        "# movie_title=movie_titles[movie_id]\n",
        "\n",
        "# print(f\"Since you watched{movie_title}\")\n",
        "# for i in similar_ids:\n",
        "#   print(movie_titles[i])"
      ],
      "metadata": {
        "id": "H8cMJ15bHYp8"
      },
      "execution_count": 24,
      "outputs": []
    },
    {
      "cell_type": "code",
      "source": [
        "from sklearn.neighbors import NearestNeighbors\n",
        "def find_similar_movies(movie_id, X, k, metric='cosine', show_distance=False):\n",
        "\n",
        "    neighbour_ids = []\n",
        "\n",
        "    movie_ind = movie_mapper[movie_id]\n",
        "    movie_vec = X[movie_ind]\n",
        "    k+=1\n",
        "    kNN = NearestNeighbors(n_neighbors=k, algorithm=\"brute\", metric=metric)\n",
        "    kNN.fit(X)\n",
        "    movie_vec = movie_vec.reshape(1,-1)\n",
        "    neighbour = kNN.kneighbors(movie_vec, return_distance=show_distance)\n",
        "\n",
        "    for i in range(0,k):\n",
        "        n = neighbour.item(i)\n",
        "        neighbour_ids.append(movie_inv_mapper[n])\n",
        "    neighbour_ids.pop(0)\n",
        "\n",
        "    return neighbour_ids\n",
        "\n",
        "\n",
        "movie_titles = dict(zip(movies['movieId'], movies['title']))\n",
        "\n",
        "movie_id = 3\n",
        "\n",
        "similar_ids = find_similar_movies(movie_id, X, k=10)\n",
        "movie_title = movie_titles[movie_id]\n",
        "\n",
        "print(f\"Since you watched {movie_title}\")\n",
        "for i in similar_ids:\n",
        "    print(movie_titles[i])"
      ],
      "metadata": {
        "colab": {
          "base_uri": "https://localhost:8080/",
          "height": 332
        },
        "id": "62_TR3Sd9kAN",
        "outputId": "6555fcc0-e836-44e9-e9ff-5fdfd65c248c"
      },
      "execution_count": 51,
      "outputs": [
        {
          "output_type": "error",
          "ename": "KeyError",
          "evalue": "2578",
          "traceback": [
            "\u001b[0;31m---------------------------------------------------------------------------\u001b[0m",
            "\u001b[0;31mKeyError\u001b[0m                                  Traceback (most recent call last)",
            "\u001b[0;32m<ipython-input-51-a431b581f5f0>\u001b[0m in \u001b[0;36m<cell line: 26>\u001b[0;34m()\u001b[0m\n\u001b[1;32m     24\u001b[0m \u001b[0mmovie_id\u001b[0m \u001b[0;34m=\u001b[0m \u001b[0;36m3\u001b[0m\u001b[0;34m\u001b[0m\u001b[0;34m\u001b[0m\u001b[0m\n\u001b[1;32m     25\u001b[0m \u001b[0;34m\u001b[0m\u001b[0m\n\u001b[0;32m---> 26\u001b[0;31m \u001b[0msimilar_ids\u001b[0m \u001b[0;34m=\u001b[0m \u001b[0mfind_similar_movies\u001b[0m\u001b[0;34m(\u001b[0m\u001b[0mmovie_id\u001b[0m\u001b[0;34m,\u001b[0m \u001b[0mX\u001b[0m\u001b[0;34m,\u001b[0m \u001b[0mk\u001b[0m\u001b[0;34m=\u001b[0m\u001b[0;36m10\u001b[0m\u001b[0;34m)\u001b[0m\u001b[0;34m\u001b[0m\u001b[0;34m\u001b[0m\u001b[0m\n\u001b[0m\u001b[1;32m     27\u001b[0m \u001b[0mmovie_title\u001b[0m \u001b[0;34m=\u001b[0m \u001b[0mmovie_titles\u001b[0m\u001b[0;34m[\u001b[0m\u001b[0mmovie_id\u001b[0m\u001b[0;34m]\u001b[0m\u001b[0;34m\u001b[0m\u001b[0;34m\u001b[0m\u001b[0m\n\u001b[1;32m     28\u001b[0m \u001b[0;34m\u001b[0m\u001b[0m\n",
            "\u001b[0;32m<ipython-input-51-a431b581f5f0>\u001b[0m in \u001b[0;36mfind_similar_movies\u001b[0;34m(movie_id, X, k, metric, show_distance)\u001b[0m\n\u001b[1;32m     14\u001b[0m     \u001b[0;32mfor\u001b[0m \u001b[0mi\u001b[0m \u001b[0;32min\u001b[0m \u001b[0mrange\u001b[0m\u001b[0;34m(\u001b[0m\u001b[0;36m0\u001b[0m\u001b[0;34m,\u001b[0m\u001b[0mk\u001b[0m\u001b[0;34m)\u001b[0m\u001b[0;34m:\u001b[0m\u001b[0;34m\u001b[0m\u001b[0;34m\u001b[0m\u001b[0m\n\u001b[1;32m     15\u001b[0m         \u001b[0mn\u001b[0m \u001b[0;34m=\u001b[0m \u001b[0mneighbour\u001b[0m\u001b[0;34m.\u001b[0m\u001b[0mitem\u001b[0m\u001b[0;34m(\u001b[0m\u001b[0mi\u001b[0m\u001b[0;34m)\u001b[0m\u001b[0;34m\u001b[0m\u001b[0;34m\u001b[0m\u001b[0m\n\u001b[0;32m---> 16\u001b[0;31m         \u001b[0mneighbour_ids\u001b[0m\u001b[0;34m.\u001b[0m\u001b[0mappend\u001b[0m\u001b[0;34m(\u001b[0m\u001b[0mmovie_inv_mapper\u001b[0m\u001b[0;34m[\u001b[0m\u001b[0mn\u001b[0m\u001b[0;34m]\u001b[0m\u001b[0;34m)\u001b[0m\u001b[0;34m\u001b[0m\u001b[0;34m\u001b[0m\u001b[0m\n\u001b[0m\u001b[1;32m     17\u001b[0m     \u001b[0mneighbour_ids\u001b[0m\u001b[0;34m.\u001b[0m\u001b[0mpop\u001b[0m\u001b[0;34m(\u001b[0m\u001b[0;36m0\u001b[0m\u001b[0;34m)\u001b[0m\u001b[0;34m\u001b[0m\u001b[0;34m\u001b[0m\u001b[0m\n\u001b[1;32m     18\u001b[0m \u001b[0;34m\u001b[0m\u001b[0m\n",
            "\u001b[0;31mKeyError\u001b[0m: 2578"
          ]
        }
      ]
    },
    {
      "cell_type": "code",
      "source": [
        "def recommend_movies_for_user(user_id, X, user_mapper, movie_mapper, movie_inv_mapper, k=10):\n",
        "    df1 = ratings[ratings['userId'] == user_id]\n",
        "\n",
        "    if df1.empty:\n",
        "        print(f\"User with ID {user_id} does not exist.\")\n",
        "        return\n",
        "\n",
        "    movie_id = df1[df1['rating'] == max(df1['rating'])]['movieId'].iloc[0]\n",
        "\n",
        "    movie_titles = dict(zip(movies['movieId'], movies['title']))\n",
        "\n",
        "    similar_ids = find_similar_movies(movie_id, X, k)\n",
        "    movie_title = movie_titles.get(movie_id, \"Movie not found\")\n",
        "\n",
        "    if movie_title == \"Movie not found\":\n",
        "        print(f\"Movie with ID {movie_id} not found.\")\n",
        "        return\n",
        "\n",
        "    print(f\"Since you watched {movie_title}, you might also like:\")\n",
        "    for i in similar_ids:\n",
        "        print(movie_titles.get(i, \"Movie not found\"))"
      ],
      "metadata": {
        "id": "NmmWJmBz9oTU"
      },
      "execution_count": 36,
      "outputs": []
    },
    {
      "cell_type": "code",
      "source": [
        "user_id = 150\n",
        "recommended_movies_for_user(user_id, X, user_mapper, movie_mapper, movie_inv_mapper, k=10)"
      ],
      "metadata": {
        "colab": {
          "base_uri": "https://localhost:8080/",
          "height": 158
        },
        "id": "WiqQC0brHgqn",
        "outputId": "a0c15601-dcaa-4354-8cca-c28bf2654d6e"
      },
      "execution_count": 37,
      "outputs": [
        {
          "output_type": "error",
          "ename": "NameError",
          "evalue": "name 'recommended_movies_for_user' is not defined",
          "traceback": [
            "\u001b[0;31m---------------------------------------------------------------------------\u001b[0m",
            "\u001b[0;31mNameError\u001b[0m                                 Traceback (most recent call last)",
            "\u001b[0;32m<ipython-input-37-264a6a499146>\u001b[0m in \u001b[0;36m<cell line: 2>\u001b[0;34m()\u001b[0m\n\u001b[1;32m      1\u001b[0m \u001b[0muser_id\u001b[0m \u001b[0;34m=\u001b[0m \u001b[0;36m150\u001b[0m\u001b[0;34m\u001b[0m\u001b[0;34m\u001b[0m\u001b[0m\n\u001b[0;32m----> 2\u001b[0;31m \u001b[0mrecommended_movies_for_user\u001b[0m\u001b[0;34m(\u001b[0m\u001b[0muser_id\u001b[0m\u001b[0;34m,\u001b[0m \u001b[0mX\u001b[0m\u001b[0;34m,\u001b[0m \u001b[0muser_mapper\u001b[0m\u001b[0;34m,\u001b[0m \u001b[0mmovie_mapper\u001b[0m\u001b[0;34m,\u001b[0m \u001b[0mmovie_inv_mapper\u001b[0m\u001b[0;34m,\u001b[0m \u001b[0mk\u001b[0m\u001b[0;34m=\u001b[0m\u001b[0;36m10\u001b[0m\u001b[0;34m)\u001b[0m\u001b[0;34m\u001b[0m\u001b[0;34m\u001b[0m\u001b[0m\n\u001b[0m",
            "\u001b[0;31mNameError\u001b[0m: name 'recommended_movies_for_user' is not defined"
          ]
        }
      ]
    }
  ]
}